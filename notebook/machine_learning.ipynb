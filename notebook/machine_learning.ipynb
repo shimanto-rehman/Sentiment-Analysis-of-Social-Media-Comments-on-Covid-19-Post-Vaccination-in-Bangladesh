{
 "cells": [
  {
   "cell_type": "code",
   "execution_count": 13,
   "metadata": {},
   "outputs": [],
   "source": [
    "import pandas as pd\n",
    "from sklearn.model_selection import train_test_split"
   ]
  },
  {
   "cell_type": "code",
   "execution_count": 14,
   "metadata": {},
   "outputs": [],
   "source": [
    "df = pd.read_csv('data/data.csv')"
   ]
  },
  {
   "cell_type": "code",
   "execution_count": 15,
   "metadata": {},
   "outputs": [
    {
     "data": {
      "text/html": [
       "<div>\n",
       "<style scoped>\n",
       "    .dataframe tbody tr th:only-of-type {\n",
       "        vertical-align: middle;\n",
       "    }\n",
       "\n",
       "    .dataframe tbody tr th {\n",
       "        vertical-align: top;\n",
       "    }\n",
       "\n",
       "    .dataframe thead th {\n",
       "        text-align: right;\n",
       "    }\n",
       "</style>\n",
       "<table border=\"1\" class=\"dataframe\">\n",
       "  <thead>\n",
       "    <tr style=\"text-align: right;\">\n",
       "      <th></th>\n",
       "      <th>Text</th>\n",
       "      <th>Polarity</th>\n",
       "    </tr>\n",
       "  </thead>\n",
       "  <tbody>\n",
       "    <tr>\n",
       "      <th>0</th>\n",
       "      <td>আমাদের সজাগ থাকতে হবে টিকা নেওয়া নিয়ে।</td>\n",
       "      <td>1</td>\n",
       "    </tr>\n",
       "    <tr>\n",
       "      <th>1</th>\n",
       "      <td>ভ্যাকসিন ভালো না।</td>\n",
       "      <td>0</td>\n",
       "    </tr>\n",
       "    <tr>\n",
       "      <th>2</th>\n",
       "      <td>আমার পরিবারের সকলেই টিকা নিয়েছে।</td>\n",
       "      <td>1</td>\n",
       "    </tr>\n",
       "    <tr>\n",
       "      <th>3</th>\n",
       "      <td>টিকা লক্ষণীয় রোগ প্রতিরোধে একইভাবে উচ্চ কার্য...</td>\n",
       "      <td>1</td>\n",
       "    </tr>\n",
       "    <tr>\n",
       "      <th>4</th>\n",
       "      <td>অনলাইনে আবেদন করে আমি ভ্যাকসিন নিয়েছি।</td>\n",
       "      <td>1</td>\n",
       "    </tr>\n",
       "  </tbody>\n",
       "</table>\n",
       "</div>"
      ],
      "text/plain": [
       "                                                Text  Polarity\n",
       "0            আমাদের সজাগ থাকতে হবে টিকা নেওয়া নিয়ে।          1\n",
       "1                                  ভ্যাকসিন ভালো না।         0\n",
       "2                 আমার পরিবারের সকলেই টিকা নিয়েছে।          1\n",
       "3  টিকা লক্ষণীয় রোগ প্রতিরোধে একইভাবে উচ্চ কার্য...         1\n",
       "4           অনলাইনে আবেদন করে আমি ভ্যাকসিন নিয়েছি।          1"
      ]
     },
     "execution_count": 15,
     "metadata": {},
     "output_type": "execute_result"
    }
   ],
   "source": [
    "df.head()"
   ]
  },
  {
   "cell_type": "code",
   "execution_count": 16,
   "metadata": {},
   "outputs": [
    {
     "data": {
      "text/html": [
       "<div>\n",
       "<style scoped>\n",
       "    .dataframe tbody tr th:only-of-type {\n",
       "        vertical-align: middle;\n",
       "    }\n",
       "\n",
       "    .dataframe tbody tr th {\n",
       "        vertical-align: top;\n",
       "    }\n",
       "\n",
       "    .dataframe thead th {\n",
       "        text-align: right;\n",
       "    }\n",
       "</style>\n",
       "<table border=\"1\" class=\"dataframe\">\n",
       "  <thead>\n",
       "    <tr style=\"text-align: right;\">\n",
       "      <th></th>\n",
       "      <th>Text</th>\n",
       "      <th>Polarity</th>\n",
       "    </tr>\n",
       "  </thead>\n",
       "  <tbody>\n",
       "    <tr>\n",
       "      <th>1011</th>\n",
       "      <td>কেন্দ্রে প্রচণ্ড ভিড় থাকায় অনেকে ভেক্সিন পায...</td>\n",
       "      <td>0</td>\n",
       "    </tr>\n",
       "    <tr>\n",
       "      <th>3182</th>\n",
       "      <td>ভ্যাকসিন দিতে গিয়ে কোনরকম ঝামেলার সম্মুখীন হত...</td>\n",
       "      <td>1</td>\n",
       "    </tr>\n",
       "    <tr>\n",
       "      <th>3350</th>\n",
       "      <td>করোনার ভ্যাকসিনগুলি আপনাকে করোনায় অসুস্থ করতে ...</td>\n",
       "      <td>1</td>\n",
       "    </tr>\n",
       "    <tr>\n",
       "      <th>897</th>\n",
       "      <td>ভ্যাকসিন নিয়ে আমি ভালো আছি।</td>\n",
       "      <td>1</td>\n",
       "    </tr>\n",
       "    <tr>\n",
       "      <th>2293</th>\n",
       "      <td>টিকা ছাড়াও ভালো হয়।</td>\n",
       "      <td>0</td>\n",
       "    </tr>\n",
       "  </tbody>\n",
       "</table>\n",
       "</div>"
      ],
      "text/plain": [
       "                                                   Text  Polarity\n",
       "1011  কেন্দ্রে প্রচণ্ড ভিড় থাকায় অনেকে ভেক্সিন পায...         0\n",
       "3182  ভ্যাকসিন দিতে গিয়ে কোনরকম ঝামেলার সম্মুখীন হত...         1\n",
       "3350  করোনার ভ্যাকসিনগুলি আপনাকে করোনায় অসুস্থ করতে ...         1\n",
       "897                        ভ্যাকসিন নিয়ে আমি ভালো আছি।         1\n",
       "2293                               টিকা ছাড়াও ভালো হয়।         0"
      ]
     },
     "execution_count": 16,
     "metadata": {},
     "output_type": "execute_result"
    }
   ],
   "source": [
    "df_shuffle = df.sample(frac = 1,random_state=42)\n",
    "df_shuffle.head()"
   ]
  },
  {
   "cell_type": "code",
   "execution_count": 17,
   "metadata": {},
   "outputs": [
    {
     "data": {
      "text/plain": [
       "1    2007\n",
       "0    1800\n",
       "Name: Polarity, dtype: int64"
      ]
     },
     "execution_count": 17,
     "metadata": {},
     "output_type": "execute_result"
    }
   ],
   "source": [
    "df['Polarity'].value_counts()"
   ]
  },
  {
   "cell_type": "code",
   "execution_count": 18,
   "metadata": {},
   "outputs": [],
   "source": [
    "def save_model(model,filename):\n",
    "    with open(f'models/{filename}.pkl','wb') as f:\n",
    "        pickle.dump(model,f)"
   ]
  },
  {
   "cell_type": "code",
   "execution_count": 19,
   "metadata": {},
   "outputs": [],
   "source": [
    "train_sentence,test_sentence,train_label,test_label = train_test_split(df_shuffle['Text'].to_numpy(),df_shuffle['Polarity'].to_numpy(),test_size=0.2,random_state=42)"
   ]
  },
  {
   "cell_type": "code",
   "execution_count": 20,
   "metadata": {},
   "outputs": [
    {
     "data": {
      "text/plain": [
       "array(['সময় মত ২য় ডোজ নিতে দেরি করলে মানুষ মারা যায়।',\n",
       "       'টিকা নিতে হবে। টিকে থাকতে হবে এই মহামারীতে।',\n",
       "       'টিকা নেওয়ার পর আমার জ্বর এসেছিলো। আমি মনে করি যে টিকাটি আমার শরীরের ঠিক কাজ করেছে।',\n",
       "       'কিছু ধরণের COVID-19 ভ্যাকসিন মেসেঞ্জার RNA (mRNA) ব্যবহার করে তৈরি করা হয়েছে, এটি একটি নতুন প্রযুক্তি যা প্রচলিত পদ্ধতির ভ্যাকসিন তৈরির চেয়ে দ্রুত পদ্ধতির অনুমতি দেয়।',\n",
       "       'আপনার কাছে যখন বিকল্প উপায়ে থাকে, তখন ভ্যাকসিন নেওয়ার কোনো প্রয়োজন নেই।',\n",
       "       'ভেকসিনই একমাত্র উপায় নয় আরও অনেক উপায় আছে।',\n",
       "       'সরকারের পক্ষ থেকে ইউনিয়নভিত্তিক টিকা প্রদানের যে পরিকল্পনা গ্রহণ করা হয়েছে সেখানে অনেক দুর্নীতি হচ্ছে। ',\n",
       "       'টিকার জন্য নিবন্ধন করেছি কিন্তু আমার এসএমএস আসছে না',\n",
       "       'আমি বিদেশ যাবো দেখে আগে আগেই টিকা নিয়ে নিছি। ',\n",
       "       'টিকা গ্রহণের পর দুর্বল হয়ে যায় বা টিকা গ্রহণের পর লোকে মারা যায়, গ্রাম ও প্রত্যন্ত অঞ্চলে এই ধরণের লোকেদের ভুল বিশ্বাস ভাঙা উচিত বলেও জানিয়েছেন।'],\n",
       "      dtype=object)"
      ]
     },
     "execution_count": 20,
     "metadata": {},
     "output_type": "execute_result"
    }
   ],
   "source": [
    "train_sentence[:10]"
   ]
  },
  {
   "cell_type": "code",
   "execution_count": 21,
   "metadata": {},
   "outputs": [
    {
     "name": "stdout",
     "output_type": "stream",
     "text": [
      "Target:1 (Positive FeedBack)\n",
      "Text\n",
      " করোনা মহামারি প্রতিরোধক ভ্যাকসিন ব্যবহারের ফলে ধনী দেশগুলোর রাষ্ট্রনেতারা যথেষ্ট সচল।\n",
      "\n",
      "---\n",
      "\n",
      "Target:0 (Negative FeedBack)\n",
      "Text\n",
      " টিকা নিলেই কি সব ঠিক হয়ে যাবে নাকি ভাই।\n",
      "\n",
      "---\n",
      "\n",
      "Target:1 (Positive FeedBack)\n",
      "Text\n",
      " বিভিন্ন পেশায় চাকরি করতে হলে তাদের টিকা নেওয়া বাধ্যতামূলক করা হয়েছে।\n",
      "\n",
      "---\n",
      "\n",
      "Target:0 (Negative FeedBack)\n",
      "Text\n",
      " আপানার কি বাঁচার ইচ্ছা নাই যে ভেকসিন নিতে যান।\n",
      "\n",
      "---\n",
      "\n",
      "Target:0 (Negative FeedBack)\n",
      "Text\n",
      " ভ্যাকসিন নিয়ে করোনা কে জয় করা যায় না। \n",
      "\n",
      "---\n",
      "\n"
     ]
    }
   ],
   "source": [
    "# visualize some random training examples\n",
    "\n",
    "import random\n",
    "\n",
    "random_index = random.randint(0,len(train_sentence) -5)\n",
    "\n",
    "for row in df_shuffle[['Text','Polarity']][random_index:random_index+5].itertuples():\n",
    "    _,text,polarity = row\n",
    "    print(f\"Target:{polarity}\", \"(Positive FeedBack)\" if polarity > 0 else \"(Negative FeedBack)\")\n",
    "    print(f\"Text\\n {text}\\n\")\n",
    "    print(\"---\\n\")\n"
   ]
  },
  {
   "cell_type": "code",
   "execution_count": 22,
   "metadata": {},
   "outputs": [
    {
     "data": {
      "text/plain": [
       "(3045, 3045, 762, 762)"
      ]
     },
     "execution_count": 22,
     "metadata": {},
     "output_type": "execute_result"
    }
   ],
   "source": [
    "\n",
    "len(train_sentence), len(train_label),len(test_sentence),len(test_label)"
   ]
  },
  {
   "cell_type": "code",
   "execution_count": 23,
   "metadata": {},
   "outputs": [],
   "source": [
    "import tensorflow as tf\n",
    "from keras.layers.preprocessing.text_vectorization import TextVectorization\n",
    "import numpy as np\n",
    "\n",
    "text_vec = TextVectorization()"
   ]
  },
  {
   "cell_type": "code",
   "execution_count": 24,
   "metadata": {},
   "outputs": [],
   "source": [
    "average_word_per_sentence = round(sum(len(i.split()) for i in train_sentence)/len(train_sentence))"
   ]
  },
  {
   "attachments": {},
   "cell_type": "markdown",
   "metadata": {},
   "source": [
    "### Settings Parmaeters for TextVectorization\n",
    "\n",
    "\n"
   ]
  },
  {
   "cell_type": "code",
   "execution_count": 25,
   "metadata": {},
   "outputs": [],
   "source": [
    "max_vocab_length = 10000\n",
    "max_length = average_word_per_sentence\n",
    "text_vectorized = TextVectorization(\n",
    "    max_tokens=max_vocab_length,\n",
    "    output_mode='int',\n",
    "    output_sequence_length=max_length)"
   ]
  },
  {
   "cell_type": "code",
   "execution_count": 26,
   "metadata": {},
   "outputs": [],
   "source": [
    "text_vectorized.adapt(train_sentence)"
   ]
  },
  {
   "cell_type": "code",
   "execution_count": 27,
   "metadata": {},
   "outputs": [
    {
     "data": {
      "text/plain": [
       "<tf.Tensor: shape=(1, 11), dtype=int64, numpy=\n",
       "array([[152, 498, 522,  10,  14, 672, 569,  33, 175, 189,   0]],\n",
       "      dtype=int64)>"
      ]
     },
     "execution_count": 27,
     "metadata": {},
     "output_type": "execute_result"
    }
   ],
   "source": [
    "sample_sentence = 'সময় মত ২য় ডোজ নিতে দেরি করলে মানুষ মারা যায়।'\n",
    "\n",
    "text_vectorized([sample_sentence])"
   ]
  },
  {
   "cell_type": "code",
   "execution_count": 28,
   "metadata": {},
   "outputs": [
    {
     "name": "stdout",
     "output_type": "stream",
     "text": [
      "Original text:\n",
      "\n",
      "টিকার সুফল ও করোনা থেকে রক্ষা পেতে হলে সর্বস্তরের জন সাধারনের টিকা নিশ্চিত করতে হবে। তা না হলে করোনার ভয়াল থাবা থেকে রক্ষা পাওয়া সম্ভব নয়।\n",
      "\n",
      " Vectorized version : [[  21  903   23    7   13  138  741  103 2908 2373 2886]]\n"
     ]
    }
   ],
   "source": [
    "\n",
    "random_sentence = random.choice(train_sentence)\n",
    "print(f\"Original text:\\n\\n{random_sentence}\\n\\n Vectorized version : {text_vectorized([random_sentence])}\")"
   ]
  },
  {
   "cell_type": "code",
   "execution_count": 29,
   "metadata": {},
   "outputs": [
    {
     "name": "stdout",
     "output_type": "stream",
     "text": [
      "Number of words in vocabulary 5201\n",
      "\n",
      "Top 10 words : ['', '[UNK]', 'টিকা', 'ভ্যাকসিন', 'আমি', 'না।', 'না', 'করোনা', 'জন্য', 'এবং']\n",
      "Bottom 10 words : ['c130j', 'astrazenecaএর', '95।', '95', '90', '6', '3', '25', '18', '10']\n"
     ]
    }
   ],
   "source": [
    "\n",
    "\n",
    "word_to_vocab = text_vectorized.get_vocabulary()\n",
    "\n",
    "top_10_word = word_to_vocab[:10]\n",
    "bottom_10_word = word_to_vocab[-10:]\n",
    "\n",
    "print(f\"Number of words in vocabulary {len(word_to_vocab)}\\n\")\n",
    "print(f\"Top 10 words : {top_10_word}\")\n",
    "print(f\"Bottom 10 words : {bottom_10_word}\")"
   ]
  },
  {
   "cell_type": "code",
   "execution_count": 30,
   "metadata": {},
   "outputs": [
    {
     "data": {
      "text/plain": [
       "<keras.layers.core.embedding.Embedding at 0x209cae4b2b0>"
      ]
     },
     "execution_count": 30,
     "metadata": {},
     "output_type": "execute_result"
    }
   ],
   "source": [
    "# making an embedding layer\n",
    "\n",
    "from keras.layers import Embedding\n",
    "\n",
    "embedding = Embedding(\n",
    "    input_dim=max_vocab_length,\n",
    "    output_dim=128,\n",
    "    input_length=max_length,\n",
    "   \n",
    ")\n",
    "embedding"
   ]
  },
  {
   "cell_type": "code",
   "execution_count": 31,
   "metadata": {},
   "outputs": [
    {
     "name": "stdout",
     "output_type": "stream",
     "text": [
      " Original Text :\n",
      "\n",
      " করোনার টিকা আর বাকি টিকাদের মতই একটি টিকা। \n",
      "\n",
      " Embedding Version : \n"
     ]
    },
    {
     "data": {
      "text/plain": [
       "<tf.Tensor: shape=(1, 11, 128), dtype=float32, numpy=\n",
       "array([[[ 0.00623472,  0.01150583, -0.01068955, ...,  0.00288393,\n",
       "          0.00507841, -0.02556775],\n",
       "        [-0.04921652,  0.00369044, -0.03969527, ..., -0.01253337,\n",
       "         -0.00093545, -0.00275923],\n",
       "        [ 0.03785666,  0.04629939,  0.02322091, ...,  0.01282587,\n",
       "         -0.02592528,  0.03131017],\n",
       "        ...,\n",
       "        [ 0.02894287, -0.00671619,  0.04286568, ...,  0.04278977,\n",
       "          0.03727189, -0.03300672],\n",
       "        [ 0.02894287, -0.00671619,  0.04286568, ...,  0.04278977,\n",
       "          0.03727189, -0.03300672],\n",
       "        [ 0.02894287, -0.00671619,  0.04286568, ...,  0.04278977,\n",
       "          0.03727189, -0.03300672]]], dtype=float32)>"
      ]
     },
     "execution_count": 31,
     "metadata": {},
     "output_type": "execute_result"
    }
   ],
   "source": [
    "random_sentence = random.choice(train_sentence)\n",
    "\n",
    "print(f\" Original Text :\\n\\n {random_sentence} \\n\\n Embedding Version : \")\n",
    "sample_emb = embedding(text_vectorized([random_sentence])) \n",
    "sample_emb"
   ]
  },
  {
   "cell_type": "code",
   "execution_count": 32,
   "metadata": {},
   "outputs": [
    {
     "data": {
      "text/plain": [
       "<tf.Tensor: shape=(128,), dtype=float32, numpy=\n",
       "array([ 0.00623472,  0.01150583, -0.01068955,  0.0070736 ,  0.02283638,\n",
       "        0.04429081, -0.00692482, -0.01043485, -0.02273856, -0.03094897,\n",
       "       -0.02109928,  0.04274793, -0.04709503, -0.03268763,  0.01286194,\n",
       "       -0.04132631,  0.04931352,  0.01187614, -0.0310769 , -0.03641319,\n",
       "       -0.04286672,  0.03856272, -0.02751043,  0.02480911,  0.00731537,\n",
       "        0.01447811,  0.04042763, -0.01651819,  0.02290808,  0.01015395,\n",
       "       -0.03361458,  0.01652456, -0.02116568,  0.02602934, -0.025481  ,\n",
       "        0.02994723,  0.02218343, -0.031953  ,  0.00626932,  0.00672521,\n",
       "       -0.03966808, -0.02457812,  0.01151273, -0.03359361, -0.00436624,\n",
       "       -0.02624904, -0.02324905, -0.00275624, -0.00442274,  0.03205379,\n",
       "       -0.00506396, -0.02434853,  0.04855938, -0.01452116,  0.0299703 ,\n",
       "        0.01661168, -0.02689753, -0.02369739,  0.01164397, -0.03308631,\n",
       "        0.03859761, -0.01864224,  0.04388572,  0.02840302,  0.00255962,\n",
       "       -0.01703528,  0.02691431, -0.00409115, -0.01736884, -0.04858618,\n",
       "        0.04384533,  0.00799228,  0.04872916, -0.03510093,  0.04752142,\n",
       "       -0.04183289, -0.0298716 , -0.00232338,  0.00679652,  0.02562873,\n",
       "        0.01714585, -0.01995965, -0.02170341, -0.02475753,  0.01146737,\n",
       "       -0.01901351, -0.02424448,  0.01684941, -0.01562206, -0.04194023,\n",
       "       -0.03260864,  0.02893002,  0.01454583, -0.04135283, -0.0303466 ,\n",
       "       -0.01918213, -0.02411571,  0.02383845,  0.03781215, -0.00862273,\n",
       "       -0.03483007, -0.00142647,  0.02288247,  0.04306122, -0.03314992,\n",
       "        0.03343382,  0.02708203,  0.00610366, -0.0279438 ,  0.00211638,\n",
       "        0.00036959,  0.04077386,  0.0147667 ,  0.04973352,  0.04171267,\n",
       "        0.02846563, -0.0009943 , -0.01147748,  0.02122022, -0.02936186,\n",
       "        0.0074758 , -0.03646918,  0.02246423, -0.049196  , -0.03804509,\n",
       "        0.00288393,  0.00507841, -0.02556775], dtype=float32)>"
      ]
     },
     "execution_count": 32,
     "metadata": {},
     "output_type": "execute_result"
    }
   ],
   "source": [
    "sample_emb[0][0]"
   ]
  },
  {
   "attachments": {},
   "cell_type": "markdown",
   "metadata": {},
   "source": [
    "### Model 1 : Naive Bayes Classifier"
   ]
  },
  {
   "cell_type": "code",
   "execution_count": 33,
   "metadata": {},
   "outputs": [
    {
     "data": {
      "text/html": [
       "<style>#sk-container-id-1 {color: black;background-color: white;}#sk-container-id-1 pre{padding: 0;}#sk-container-id-1 div.sk-toggleable {background-color: white;}#sk-container-id-1 label.sk-toggleable__label {cursor: pointer;display: block;width: 100%;margin-bottom: 0;padding: 0.3em;box-sizing: border-box;text-align: center;}#sk-container-id-1 label.sk-toggleable__label-arrow:before {content: \"▸\";float: left;margin-right: 0.25em;color: #696969;}#sk-container-id-1 label.sk-toggleable__label-arrow:hover:before {color: black;}#sk-container-id-1 div.sk-estimator:hover label.sk-toggleable__label-arrow:before {color: black;}#sk-container-id-1 div.sk-toggleable__content {max-height: 0;max-width: 0;overflow: hidden;text-align: left;background-color: #f0f8ff;}#sk-container-id-1 div.sk-toggleable__content pre {margin: 0.2em;color: black;border-radius: 0.25em;background-color: #f0f8ff;}#sk-container-id-1 input.sk-toggleable__control:checked~div.sk-toggleable__content {max-height: 200px;max-width: 100%;overflow: auto;}#sk-container-id-1 input.sk-toggleable__control:checked~label.sk-toggleable__label-arrow:before {content: \"▾\";}#sk-container-id-1 div.sk-estimator input.sk-toggleable__control:checked~label.sk-toggleable__label {background-color: #d4ebff;}#sk-container-id-1 div.sk-label input.sk-toggleable__control:checked~label.sk-toggleable__label {background-color: #d4ebff;}#sk-container-id-1 input.sk-hidden--visually {border: 0;clip: rect(1px 1px 1px 1px);clip: rect(1px, 1px, 1px, 1px);height: 1px;margin: -1px;overflow: hidden;padding: 0;position: absolute;width: 1px;}#sk-container-id-1 div.sk-estimator {font-family: monospace;background-color: #f0f8ff;border: 1px dotted black;border-radius: 0.25em;box-sizing: border-box;margin-bottom: 0.5em;}#sk-container-id-1 div.sk-estimator:hover {background-color: #d4ebff;}#sk-container-id-1 div.sk-parallel-item::after {content: \"\";width: 100%;border-bottom: 1px solid gray;flex-grow: 1;}#sk-container-id-1 div.sk-label:hover label.sk-toggleable__label {background-color: #d4ebff;}#sk-container-id-1 div.sk-serial::before {content: \"\";position: absolute;border-left: 1px solid gray;box-sizing: border-box;top: 0;bottom: 0;left: 50%;z-index: 0;}#sk-container-id-1 div.sk-serial {display: flex;flex-direction: column;align-items: center;background-color: white;padding-right: 0.2em;padding-left: 0.2em;position: relative;}#sk-container-id-1 div.sk-item {position: relative;z-index: 1;}#sk-container-id-1 div.sk-parallel {display: flex;align-items: stretch;justify-content: center;background-color: white;position: relative;}#sk-container-id-1 div.sk-item::before, #sk-container-id-1 div.sk-parallel-item::before {content: \"\";position: absolute;border-left: 1px solid gray;box-sizing: border-box;top: 0;bottom: 0;left: 50%;z-index: -1;}#sk-container-id-1 div.sk-parallel-item {display: flex;flex-direction: column;z-index: 1;position: relative;background-color: white;}#sk-container-id-1 div.sk-parallel-item:first-child::after {align-self: flex-end;width: 50%;}#sk-container-id-1 div.sk-parallel-item:last-child::after {align-self: flex-start;width: 50%;}#sk-container-id-1 div.sk-parallel-item:only-child::after {width: 0;}#sk-container-id-1 div.sk-dashed-wrapped {border: 1px dashed gray;margin: 0 0.4em 0.5em 0.4em;box-sizing: border-box;padding-bottom: 0.4em;background-color: white;}#sk-container-id-1 div.sk-label label {font-family: monospace;font-weight: bold;display: inline-block;line-height: 1.2em;}#sk-container-id-1 div.sk-label-container {text-align: center;}#sk-container-id-1 div.sk-container {/* jupyter's `normalize.less` sets `[hidden] { display: none; }` but bootstrap.min.css set `[hidden] { display: none !important; }` so we also need the `!important` here to be able to override the default hidden behavior on the sphinx rendered scikit-learn.org. See: https://github.com/scikit-learn/scikit-learn/issues/21755 */display: inline-block !important;position: relative;}#sk-container-id-1 div.sk-text-repr-fallback {display: none;}</style><div id=\"sk-container-id-1\" class=\"sk-top-container\"><div class=\"sk-text-repr-fallback\"><pre>Pipeline(steps=[(&#x27;tfidf&#x27;, TfidfVectorizer()), (&#x27;multiNB&#x27;, MultinomialNB())])</pre><b>In a Jupyter environment, please rerun this cell to show the HTML representation or trust the notebook. <br />On GitHub, the HTML representation is unable to render, please try loading this page with nbviewer.org.</b></div><div class=\"sk-container\" hidden><div class=\"sk-item sk-dashed-wrapped\"><div class=\"sk-label-container\"><div class=\"sk-label sk-toggleable\"><input class=\"sk-toggleable__control sk-hidden--visually\" id=\"sk-estimator-id-1\" type=\"checkbox\" ><label for=\"sk-estimator-id-1\" class=\"sk-toggleable__label sk-toggleable__label-arrow\">Pipeline</label><div class=\"sk-toggleable__content\"><pre>Pipeline(steps=[(&#x27;tfidf&#x27;, TfidfVectorizer()), (&#x27;multiNB&#x27;, MultinomialNB())])</pre></div></div></div><div class=\"sk-serial\"><div class=\"sk-item\"><div class=\"sk-estimator sk-toggleable\"><input class=\"sk-toggleable__control sk-hidden--visually\" id=\"sk-estimator-id-2\" type=\"checkbox\" ><label for=\"sk-estimator-id-2\" class=\"sk-toggleable__label sk-toggleable__label-arrow\">TfidfVectorizer</label><div class=\"sk-toggleable__content\"><pre>TfidfVectorizer()</pre></div></div></div><div class=\"sk-item\"><div class=\"sk-estimator sk-toggleable\"><input class=\"sk-toggleable__control sk-hidden--visually\" id=\"sk-estimator-id-3\" type=\"checkbox\" ><label for=\"sk-estimator-id-3\" class=\"sk-toggleable__label sk-toggleable__label-arrow\">MultinomialNB</label><div class=\"sk-toggleable__content\"><pre>MultinomialNB()</pre></div></div></div></div></div></div></div>"
      ],
      "text/plain": [
       "Pipeline(steps=[('tfidf', TfidfVectorizer()), ('multiNB', MultinomialNB())])"
      ]
     },
     "execution_count": 33,
     "metadata": {},
     "output_type": "execute_result"
    }
   ],
   "source": [
    "\n",
    "from sklearn.feature_extraction.text import TfidfVectorizer\n",
    "from sklearn.naive_bayes import MultinomialNB\n",
    "from sklearn.pipeline import Pipeline\n",
    "\n",
    "\n",
    "model_naive_bayes = Pipeline([\n",
    "    ('tfidf',TfidfVectorizer()),\n",
    "    ('multiNB',MultinomialNB())\n",
    "])\n",
    "\n",
    "model_naive_bayes.fit(train_sentence,train_label)"
   ]
  },
  {
   "cell_type": "code",
   "execution_count": 34,
   "metadata": {},
   "outputs": [
    {
     "name": "stdout",
     "output_type": "stream",
     "text": [
      "Our Naive Bayes accuracy: 66.80 %\n"
     ]
    }
   ],
   "source": [
    "score = model_naive_bayes.score(test_sentence,test_label)\n",
    "print(f'Our Naive Bayes accuracy: {score*100:.2f} %')"
   ]
  },
  {
   "cell_type": "code",
   "execution_count": 35,
   "metadata": {},
   "outputs": [
    {
     "data": {
      "text/plain": [
       "(array([0, 0, 0, 1, 0], dtype=int64), array([0, 0, 1, 0, 0], dtype=int64))"
      ]
     },
     "execution_count": 35,
     "metadata": {},
     "output_type": "execute_result"
    }
   ],
   "source": [
    "\n",
    "# Prediction Test\n",
    "\n",
    "naive_bayes_pred = model_naive_bayes.predict(test_sentence[:5])\n",
    "\n",
    "naive_bayes_pred[:5], test_label[:5]"
   ]
  },
  {
   "cell_type": "code",
   "execution_count": 36,
   "metadata": {},
   "outputs": [
    {
     "data": {
      "text/plain": [
       "(array([0], dtype=int64), 0)"
      ]
     },
     "execution_count": 36,
     "metadata": {},
     "output_type": "execute_result"
    }
   ],
   "source": [
    "model_naive_bayes.predict([test_sentence[1]]),test_label[1]"
   ]
  },
  {
   "cell_type": "code",
   "execution_count": 37,
   "metadata": {},
   "outputs": [
    {
     "name": "stdout",
     "output_type": "stream",
     "text": [
      "Text: টিকা নিয়াই তো বাঁইচা আছি।টিকা ছাড়া কি আর বাঁচবার পারতাম।   pred: 0 original: 1\n",
      "\n",
      "\n",
      "Text: মডার্নার ভ্যাকসিন একজন ব্যক্তির কোভিড-১৯ হওয়ার ঝুঁকি ৯৪% কমিয়ে দিয়েছে।  pred: 1 original: 1\n",
      "\n",
      "\n",
      "Text: ভ্যাকসিন নিয়ে মানসিকভাবেও ভালো থাকেন।   pred: 1 original: 1\n",
      "\n",
      "\n",
      "Text: একজন মানুষের সুস্থ ও স্বাভাবিক জীবন কাটানোর জন্য ভ্যাকসিন নেওয়া এই সময় জরুরি।   pred: 1 original: 1\n",
      "\n",
      "\n",
      "Text: দুই ডোজে দুরকম ভ্যাকসিন নিলে মোকাবিলা সম্ভব ডেল্টা ভ্যারিয়েন্টের সঙ্গে।  pred: 1 original: 0\n",
      "\n",
      "\n"
     ]
    }
   ],
   "source": [
    "rdint = random.randint(0,abs(len(test_sentence) -5))\n",
    "\n",
    "for i,word in enumerate(test_sentence[rdint:rdint+5]):\n",
    "  \n",
    "    print(f\"Text: {word}  pred: {model_naive_bayes.predict([word])[0]} original: {test_label[rdint+i+1]}\\n\\n\")"
   ]
  },
  {
   "cell_type": "code",
   "execution_count": 38,
   "metadata": {},
   "outputs": [],
   "source": [
    "# Calculate Accuracy\n",
    "\n",
    "from sklearn.metrics import accuracy_score, precision_recall_fscore_support\n",
    "\n",
    "def calculate_results(y_true,y_pred):\n",
    "    model_accuracy = accuracy_score(y_true,y_pred) *100\n",
    "    precision,recall,f1,_ = precision_recall_fscore_support(y_true,y_pred,average='weighted')\n",
    "    model_result = {\n",
    "        'accuracy':model_accuracy,\n",
    "        'precision':precision,\n",
    "        'recall':recall,\n",
    "        'f1':f1\n",
    "    }\n",
    "    return model_result"
   ]
  },
  {
   "cell_type": "code",
   "execution_count": 39,
   "metadata": {},
   "outputs": [
    {
     "data": {
      "text/plain": [
       "{'accuracy': 66.7979002624672,\n",
       " 'precision': 0.6960798636606401,\n",
       " 'recall': 0.6679790026246719,\n",
       " 'f1': 0.6729967926241313}"
      ]
     },
     "execution_count": 39,
     "metadata": {},
     "output_type": "execute_result"
    }
   ],
   "source": [
    "calculate_results(model_naive_bayes.predict(test_sentence),test_label)"
   ]
  },
  {
   "cell_type": "code",
   "execution_count": 40,
   "metadata": {},
   "outputs": [],
   "source": [
    "import pickle\n",
    "with open ('models/naive_bayes.pkl', 'wb') as f:\n",
    "    pickle.dump(model_naive_bayes,f)"
   ]
  },
  {
   "cell_type": "code",
   "execution_count": 41,
   "metadata": {},
   "outputs": [],
   "source": [
    "def build_model( algorithm, train_sentence=train_sentence, train_label=train_label):\n",
    "    model_pipeline = Pipeline([\n",
    "    ('tfidf',TfidfVectorizer()),\n",
    "    ('Algorithum',algorithm)\n",
    "    ])\n",
    "    model_pipeline.fit(train_sentence,train_label)\n",
    "    return model_pipeline\n",
    "    "
   ]
  },
  {
   "attachments": {},
   "cell_type": "markdown",
   "metadata": {},
   "source": [
    "### Logistic   Regression"
   ]
  },
  {
   "cell_type": "code",
   "execution_count": 42,
   "metadata": {},
   "outputs": [],
   "source": [
    "from sklearn.linear_model import LogisticRegression\n",
    "model_logistic_regression = build_model(LogisticRegression())\n",
    "model_logistic_regression.score(test_sentence,test_label)\n",
    "calculate_results(model_logistic_regression.predict(test_sentence),test_label)\n",
    "\n",
    "with open ('models/lr.pkl', 'wb') as f:\n",
    "    pickle.dump(model_naive_bayes,f)"
   ]
  },
  {
   "attachments": {},
   "cell_type": "markdown",
   "metadata": {},
   "source": [
    "### Build Model with Random Forest, Gradient Boosting, XGBoost, LightGBM"
   ]
  },
  {
   "cell_type": "code",
   "execution_count": 43,
   "metadata": {},
   "outputs": [
    {
     "data": {
      "text/plain": [
       "{'accuracy': 66.14173228346458,\n",
       " 'precision': 0.6624484936730389,\n",
       " 'recall': 0.6614173228346457,\n",
       " 'f1': 0.6616414616391161}"
      ]
     },
     "execution_count": 43,
     "metadata": {},
     "output_type": "execute_result"
    }
   ],
   "source": [
    "from sklearn.svm import LinearSVC   \n",
    "model_linear_svc = build_model(LinearSVC())\n",
    "model_linear_svc.score(test_sentence,test_label)\n",
    "calculate_results(model_linear_svc.predict(test_sentence),test_label)"
   ]
  },
  {
   "cell_type": "code",
   "execution_count": 44,
   "metadata": {},
   "outputs": [],
   "source": [
    "\n",
    "from sklearn.ensemble import RandomForestClassifier\n",
    "model_random_forest = build_model(RandomForestClassifier())\n",
    "model_random_forest.score(test_sentence,test_label)\n",
    "calculate_results(model_random_forest.predict(test_sentence),test_label)\n",
    "save_model(model_random_forest,filename='model_random_forest.pkl')"
   ]
  },
  {
   "cell_type": "code",
   "execution_count": 45,
   "metadata": {},
   "outputs": [],
   "source": [
    "\n",
    "from sklearn.ensemble import GradientBoostingClassifier\n",
    "model_gradient_boosting = build_model(GradientBoostingClassifier())\n",
    "model_gradient_boosting.score(test_sentence,test_label)\n",
    "calculate_results(model_gradient_boosting.predict(test_sentence),test_label)\n",
    "save_model(model_gradient_boosting,filename='model_gradient_boosting.pkl')"
   ]
  },
  {
   "cell_type": "code",
   "execution_count": 46,
   "metadata": {},
   "outputs": [],
   "source": [
    "\n",
    "from sklearn.ensemble import AdaBoostClassifier\n",
    "model_adaboost = build_model(AdaBoostClassifier())\n",
    "model_adaboost.score(test_sentence,test_label)\n",
    "calculate_results(model_adaboost.predict(test_sentence),test_label)\n",
    "save_model(model_adaboost,filename='model_adaboost.pkl')"
   ]
  },
  {
   "cell_type": "code",
   "execution_count": 49,
   "metadata": {},
   "outputs": [],
   "source": [
    "\n",
    "from sklearn.ensemble import ExtraTreesClassifier\n",
    "model_extra_tree = build_model(ExtraTreesClassifier())\n",
    "model_extra_tree.score(test_sentence,test_label)\n",
    "calculate_results(model_extra_tree.predict(test_sentence),test_label)\n",
    "save_model(model_extra_tree,filename='model_extra_tree.pkl')"
   ]
  },
  {
   "cell_type": "code",
   "execution_count": 50,
   "metadata": {},
   "outputs": [
    {
     "data": {
      "text/plain": [
       "{'accuracy': 67.97900262467192,\n",
       " 'precision': 0.6798214546789078,\n",
       " 'recall': 0.6797900262467191,\n",
       " 'f1': 0.6798010576232815}"
      ]
     },
     "execution_count": 50,
     "metadata": {},
     "output_type": "execute_result"
    }
   ],
   "source": [
    "\n",
    "from sklearn.ensemble import BaggingClassifier\n",
    "model_bagging = build_model(BaggingClassifier())\n",
    "model_bagging.score(test_sentence,test_label)\n",
    "calculate_results(model_bagging.predict(test_sentence),test_label)\n"
   ]
  },
  {
   "cell_type": "code",
   "execution_count": 51,
   "metadata": {},
   "outputs": [
    {
     "data": {
      "text/plain": [
       "{'accuracy': 56.03674540682415,\n",
       " 'precision': 0.7169998975592242,\n",
       " 'recall': 0.5603674540682415,\n",
       " 'f1': 0.5967490612916128}"
      ]
     },
     "execution_count": 51,
     "metadata": {},
     "output_type": "execute_result"
    }
   ],
   "source": [
    "\n",
    "from sklearn.neighbors import KNeighborsClassifier\n",
    "model_knn = build_model(KNeighborsClassifier())\n",
    "model_knn.score(test_sentence,test_label)\n",
    "calculate_results(model_knn.predict(test_sentence),test_label)\n"
   ]
  },
  {
   "cell_type": "code",
   "execution_count": 52,
   "metadata": {},
   "outputs": [
    {
     "data": {
      "text/plain": [
       "{'accuracy': 63.25459317585301,\n",
       " 'precision': 0.6331635058759686,\n",
       " 'recall': 0.6325459317585301,\n",
       " 'f1': 0.632697917778856}"
      ]
     },
     "execution_count": 52,
     "metadata": {},
     "output_type": "execute_result"
    }
   ],
   "source": [
    "\n",
    "from sklearn.tree import DecisionTreeClassifier\n",
    "model_decision_tree = build_model(DecisionTreeClassifier())\n",
    "model_decision_tree.score(test_sentence,test_label)\n",
    "calculate_results(model_decision_tree.predict(test_sentence),test_label)\n"
   ]
  },
  {
   "cell_type": "code",
   "execution_count": 53,
   "metadata": {},
   "outputs": [],
   "source": [
    "# make a function to save model\n",
    "\n",
    "def save_model(model,filename):\n",
    "    with open(f'models/{filename}.pkl','wb') as f:\n",
    "        pickle.dump(model,f)\n",
    "\n",
    "save_model(model_naive_bayes,'naive_bayes')"
   ]
  },
  {
   "cell_type": "code",
   "execution_count": 56,
   "metadata": {},
   "outputs": [],
   "source": [
    "class BuildModel():\n",
    "\n",
    "    def __init__(self,train_sentence,train_label,test_sentence,test_label,algo) -> None:\n",
    "        self.train_sentence = train_sentence\n",
    "        self.train_label = train_label\n",
    "        self.test_sentence = test_sentence\n",
    "        self.test_label = test_label\n",
    "        self.algo = algo\n",
    "\n",
    "    \n",
    "    def run(self):\n",
    "        self.build_model()\n",
    "        self.score()\n",
    "        return self.calculate_results()\n",
    "\n",
    "    def build_model(self):\n",
    "        self.model = Pipeline([\n",
    "            ('tfidf', TfidfVectorizer()),\n",
    "            ('algo',algo)\n",
    "        ])\n",
    "        return self.model.fit(self.train_sentence,train_label)\n",
    "    \n",
    "    def score(self):\n",
    "        return self.model.score(test_sentence,test_label)\n",
    "\n",
    "    def calculate_results(self):\n",
    "        y_true = test_label\n",
    "        y_pred = self.model.predict(test_sentence)\n",
    "        model_accuracy = accuracy_score(y_true,y_pred) *100\n",
    "        precision,recall,f1,_ = precision_recall_fscore_support(y_true,y_pred,average='weighted')\n",
    "        model_result = {\n",
    "            'accuracy':model_accuracy,\n",
    "            'precision':precision,\n",
    "            'recall':recall,\n",
    "            'f1':f1\n",
    "        }\n",
    "        return model_result\n",
    "\n",
    "        "
   ]
  },
  {
   "cell_type": "code",
   "execution_count": 58,
   "metadata": {},
   "outputs": [],
   "source": [
    "# Building Neural Network \n",
    "import keras as ks\n",
    "from keras import layers,Model\n",
    "\n",
    "input = layers.Input(shape=(1,), dtype=\"string\")\n",
    "x = text_vectorized(input)\n",
    "x = embedding(x)\n",
    "x = layers.GlobalAveragePooling1D()(x)\n",
    "output = layers.Dense(1, activation=\"sigmoid\")(x)\n",
    "nn_model = Model(input,output)"
   ]
  },
  {
   "cell_type": "code",
   "execution_count": 59,
   "metadata": {},
   "outputs": [],
   "source": [
    "nn_model.compile(loss='binary_crossentropy',optimizer=\"Adam\",metrics=['accuracy'])"
   ]
  },
  {
   "cell_type": "code",
   "execution_count": 60,
   "metadata": {},
   "outputs": [
    {
     "name": "stdout",
     "output_type": "stream",
     "text": [
      "Model: \"model_1\"\n",
      "_________________________________________________________________\n",
      " Layer (type)                Output Shape              Param #   \n",
      "=================================================================\n",
      " input_2 (InputLayer)        [(None, 1)]               0         \n",
      "                                                                 \n",
      " text_vectorization_2 (TextV  (None, 11)               0         \n",
      " ectorization)                                                   \n",
      "                                                                 \n",
      " embedding (Embedding)       (None, 11, 128)           1280000   \n",
      "                                                                 \n",
      " global_average_pooling1d_1   (None, 128)              0         \n",
      " (GlobalAveragePooling1D)                                        \n",
      "                                                                 \n",
      " dense_1 (Dense)             (None, 1)                 129       \n",
      "                                                                 \n",
      "=================================================================\n",
      "Total params: 1,280,129\n",
      "Trainable params: 1,280,129\n",
      "Non-trainable params: 0\n",
      "_________________________________________________________________\n"
     ]
    }
   ],
   "source": [
    "nn_model.summary()"
   ]
  },
  {
   "cell_type": "code",
   "execution_count": 61,
   "metadata": {},
   "outputs": [
    {
     "name": "stdout",
     "output_type": "stream",
     "text": [
      "Epoch 1/5\n",
      "96/96 [==============================] - 3s 19ms/step - loss: 0.6696 - accuracy: 0.7048\n",
      "Epoch 2/5\n",
      "96/96 [==============================] - 2s 19ms/step - loss: 0.5634 - accuracy: 0.8141\n",
      "Epoch 3/5\n",
      "96/96 [==============================] - 2s 19ms/step - loss: 0.4454 - accuracy: 0.8506\n",
      "Epoch 4/5\n",
      "96/96 [==============================] - 2s 18ms/step - loss: 0.3609 - accuracy: 0.8745\n",
      "Epoch 5/5\n",
      "96/96 [==============================] - 2s 19ms/step - loss: 0.3003 - accuracy: 0.8972\n"
     ]
    }
   ],
   "source": [
    "nn_history = nn_model.fit(train_sentence,train_label, epochs=5, )"
   ]
  },
  {
   "cell_type": "code",
   "execution_count": 62,
   "metadata": {},
   "outputs": [
    {
     "name": "stdout",
     "output_type": "stream",
     "text": [
      "24/24 [==============================] - 0s 4ms/step\n"
     ]
    }
   ],
   "source": [
    "\n",
    "nn_pred = tf.squeeze(tf.round(nn_model.predict(test_sentence))) "
   ]
  },
  {
   "cell_type": "code",
   "execution_count": 63,
   "metadata": {},
   "outputs": [
    {
     "data": {
      "text/plain": [
       "{'accuracy': 77.82152230971128,\n",
       " 'precision': 0.7806410141023981,\n",
       " 'recall': 0.7782152230971129,\n",
       " 'f1': 0.7775770282684895}"
      ]
     },
     "execution_count": 63,
     "metadata": {},
     "output_type": "execute_result"
    }
   ],
   "source": [
    "calculate_results(test_label,nn_pred)"
   ]
  },
  {
   "cell_type": "code",
   "execution_count": 64,
   "metadata": {},
   "outputs": [
    {
     "name": "stderr",
     "output_type": "stream",
     "text": [
      "WARNING:absl:Found untraced functions such as _update_step_xla while saving (showing 1 of 1). These functions will not be directly callable after loading.\n"
     ]
    },
    {
     "name": "stdout",
     "output_type": "stream",
     "text": [
      "INFO:tensorflow:Assets written to: models/nn_model\\assets\n"
     ]
    },
    {
     "name": "stderr",
     "output_type": "stream",
     "text": [
      "INFO:tensorflow:Assets written to: models/nn_model\\assets\n"
     ]
    }
   ],
   "source": [
    "nn_model.save('models/nn_model')"
   ]
  },
  {
   "cell_type": "code",
   "execution_count": 65,
   "metadata": {},
   "outputs": [],
   "source": [
    "save_model(model_logistic_regression,'model_logistic_regration.pkl')"
   ]
  },
  {
   "cell_type": "code",
   "execution_count": null,
   "metadata": {},
   "outputs": [
    {
     "ename": "NameError",
     "evalue": "name 'model_adaboost' is not defined",
     "output_type": "error",
     "traceback": [
      "\u001b[0;31m---------------------------------------------------------------------------\u001b[0m",
      "\u001b[0;31mNameError\u001b[0m                                 Traceback (most recent call last)",
      "Cell \u001b[0;32mIn[40], line 3\u001b[0m\n\u001b[1;32m      1\u001b[0m \u001b[39m# save_model(model_random_forest,'model_random_forest.pkl')\u001b[39;00m\n\u001b[1;32m      2\u001b[0m save_model(model_linear_svc,\u001b[39m'\u001b[39m\u001b[39mmodel_linear_svc.pkl\u001b[39m\u001b[39m'\u001b[39m)\n\u001b[0;32m----> 3\u001b[0m save_model(model_adaboost,\u001b[39m'\u001b[39m\u001b[39mmodel_adaboot.pkl\u001b[39m\u001b[39m'\u001b[39m)\n\u001b[1;32m      4\u001b[0m save_model(model_gradient_boosting,\u001b[39m'\u001b[39m\u001b[39mmodel_gradient_boosting.pkls\u001b[39m\u001b[39m'\u001b[39m)\n\u001b[1;32m      5\u001b[0m save_model(model_extra_tree,\u001b[39m'\u001b[39m\u001b[39mmodel_extra_tree.pkl\u001b[39m\u001b[39m'\u001b[39m)\n",
      "\u001b[0;31mNameError\u001b[0m: name 'model_adaboost' is not defined"
     ]
    }
   ],
   "source": [
    "# save_model(model_random_forest,'model_random_forest.pkl')\n",
    "save_model(model_linear_svc,'model_linear_svc.pkl')\n",
    "save_model(model_adaboost,'model_adaboot.pkl')\n",
    "save_model(model_gradient_boosting,'model_gradient_boosting.pkls')\n",
    "save_model(model_extra_tree,'model_extra_tree.pkl')\n"
   ]
  },
  {
   "cell_type": "code",
   "execution_count": null,
   "metadata": {},
   "outputs": [],
   "source": []
  }
 ],
 "metadata": {
  "kernelspec": {
   "display_name": "env",
   "language": "python",
   "name": "python3"
  },
  "language_info": {
   "codemirror_mode": {
    "name": "ipython",
    "version": 3
   },
   "file_extension": ".py",
   "mimetype": "text/x-python",
   "name": "python",
   "nbconvert_exporter": "python",
   "pygments_lexer": "ipython3",
   "version": "3.10.9"
  },
  "orig_nbformat": 4,
  "vscode": {
   "interpreter": {
    "hash": "d307a27cf840f16ae9578e3d15edb9dd96b6bcee180de4bfadc2593815b392e7"
   }
  }
 },
 "nbformat": 4,
 "nbformat_minor": 2
}
